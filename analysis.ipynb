{
 "cells": [
  {
   "cell_type": "markdown",
   "metadata": {},
   "source": [
    "# Analyzing our Mountain Project Climbing Route Data"
   ]
  },
  {
   "cell_type": "markdown",
   "metadata": {},
   "source": [
    "## Data Pre-Processing"
   ]
  },
  {
   "cell_type": "markdown",
   "metadata": {},
   "source": [
    "### Read in the Mountain Project csv into pandas dataframe"
   ]
  },
  {
   "cell_type": "code",
   "execution_count": 51,
   "metadata": {},
   "outputs": [
    {
     "data": {
      "text/html": [
       "<div>\n",
       "<style scoped>\n",
       "    .dataframe tbody tr th:only-of-type {\n",
       "        vertical-align: middle;\n",
       "    }\n",
       "\n",
       "    .dataframe tbody tr th {\n",
       "        vertical-align: top;\n",
       "    }\n",
       "\n",
       "    .dataframe thead th {\n",
       "        text-align: right;\n",
       "    }\n",
       "</style>\n",
       "<table border=\"1\" class=\"dataframe\">\n",
       "  <thead>\n",
       "    <tr style=\"text-align: right;\">\n",
       "      <th></th>\n",
       "      <th>Unnamed: 0</th>\n",
       "      <th>Route</th>\n",
       "      <th>Location</th>\n",
       "      <th>URL</th>\n",
       "      <th>Avg Stars</th>\n",
       "      <th>Route Type</th>\n",
       "      <th>Rating</th>\n",
       "      <th>Pitches</th>\n",
       "      <th>Length</th>\n",
       "      <th>Area Latitude</th>\n",
       "      <th>Area Longitude</th>\n",
       "      <th>desc</th>\n",
       "      <th>protection</th>\n",
       "      <th>num_votes</th>\n",
       "    </tr>\n",
       "  </thead>\n",
       "  <tbody>\n",
       "    <tr>\n",
       "      <th>0</th>\n",
       "      <td>0</td>\n",
       "      <td>Access Denied</td>\n",
       "      <td>El Mirador &gt; El Potrero Chico &gt; Nuevo Leon &gt; N...</td>\n",
       "      <td>https://www.mountainproject.com/route/11014983...</td>\n",
       "      <td>2.9</td>\n",
       "      <td>Sport</td>\n",
       "      <td>5.10b/c</td>\n",
       "      <td>4</td>\n",
       "      <td>350.0</td>\n",
       "      <td>25.95044</td>\n",
       "      <td>-100.47755</td>\n",
       "      <td>This is a really great route~ with awesome exp...</td>\n",
       "      <td>12 draws + 60m Rope   Take 22 draws if you wan...</td>\n",
       "      <td>22</td>\n",
       "    </tr>\n",
       "    <tr>\n",
       "      <th>1</th>\n",
       "      <td>1</td>\n",
       "      <td>Agave Nectar</td>\n",
       "      <td>Sugar Shack &gt; Cougar Canyon (Creek) - CONSTRUC...</td>\n",
       "      <td>https://www.mountainproject.com/route/11091386...</td>\n",
       "      <td>2.0</td>\n",
       "      <td>Sport</td>\n",
       "      <td>5.10b/c</td>\n",
       "      <td>1</td>\n",
       "      <td>NaN</td>\n",
       "      <td>51.09642</td>\n",
       "      <td>-115.31767</td>\n",
       "      <td>from tabvar:     Cool fins to roof~ thin holds...</td>\n",
       "      <td>4 bolts to anchor</td>\n",
       "      <td>1</td>\n",
       "    </tr>\n",
       "    <tr>\n",
       "      <th>2</th>\n",
       "      <td>2</td>\n",
       "      <td>Ant &amp; Bee do Yoga</td>\n",
       "      <td>The Hen House &gt; Kamloops &gt; British Columbia &gt; ...</td>\n",
       "      <td>https://www.mountainproject.com/route/11240652...</td>\n",
       "      <td>2.7</td>\n",
       "      <td>Trad</td>\n",
       "      <td>5.10b/c</td>\n",
       "      <td>1</td>\n",
       "      <td>NaN</td>\n",
       "      <td>50.57212</td>\n",
       "      <td>-120.13874</td>\n",
       "      <td>A safe mixed route with a bit of run out up to...</td>\n",
       "      <td>mixed~ gear to 4\"</td>\n",
       "      <td>3</td>\n",
       "    </tr>\n",
       "    <tr>\n",
       "      <th>3</th>\n",
       "      <td>3</td>\n",
       "      <td>Besame Fuerte</td>\n",
       "      <td>Pilon De Lolita &gt; Loreto Area &gt; Baja Californi...</td>\n",
       "      <td>https://www.mountainproject.com/route/11608640...</td>\n",
       "      <td>2.0</td>\n",
       "      <td>Sport</td>\n",
       "      <td>5.10b/c</td>\n",
       "      <td>1</td>\n",
       "      <td>80.0</td>\n",
       "      <td>26.01097</td>\n",
       "      <td>-111.34166</td>\n",
       "      <td>Start on a slab under a left leaning arched ro...</td>\n",
       "      <td>bolts</td>\n",
       "      <td>1</td>\n",
       "    </tr>\n",
       "    <tr>\n",
       "      <th>4</th>\n",
       "      <td>4</td>\n",
       "      <td>Big Momma's Rock</td>\n",
       "      <td>The Courtyard &gt; Mamquam FSR &gt; Squamish &gt; Briti...</td>\n",
       "      <td>https://www.mountainproject.com/route/11445772...</td>\n",
       "      <td>3.0</td>\n",
       "      <td>Sport</td>\n",
       "      <td>5.10b/c</td>\n",
       "      <td>1</td>\n",
       "      <td>60.0</td>\n",
       "      <td>49.71393</td>\n",
       "      <td>-123.09943</td>\n",
       "      <td>Fun technical climbing. Tricky right off the bat.</td>\n",
       "      <td>bolts</td>\n",
       "      <td>3</td>\n",
       "    </tr>\n",
       "  </tbody>\n",
       "</table>\n",
       "</div>"
      ],
      "text/plain": [
       "   Unnamed: 0              Route  \\\n",
       "0           0      Access Denied   \n",
       "1           1       Agave Nectar   \n",
       "2           2  Ant & Bee do Yoga   \n",
       "3           3      Besame Fuerte   \n",
       "4           4   Big Momma's Rock   \n",
       "\n",
       "                                            Location  \\\n",
       "0  El Mirador > El Potrero Chico > Nuevo Leon > N...   \n",
       "1  Sugar Shack > Cougar Canyon (Creek) - CONSTRUC...   \n",
       "2  The Hen House > Kamloops > British Columbia > ...   \n",
       "3  Pilon De Lolita > Loreto Area > Baja Californi...   \n",
       "4  The Courtyard > Mamquam FSR > Squamish > Briti...   \n",
       "\n",
       "                                                 URL  Avg Stars Route Type  \\\n",
       "0  https://www.mountainproject.com/route/11014983...        2.9      Sport   \n",
       "1  https://www.mountainproject.com/route/11091386...        2.0      Sport   \n",
       "2  https://www.mountainproject.com/route/11240652...        2.7       Trad   \n",
       "3  https://www.mountainproject.com/route/11608640...        2.0      Sport   \n",
       "4  https://www.mountainproject.com/route/11445772...        3.0      Sport   \n",
       "\n",
       "    Rating  Pitches  Length  Area Latitude  Area Longitude  \\\n",
       "0  5.10b/c        4   350.0       25.95044      -100.47755   \n",
       "1  5.10b/c        1     NaN       51.09642      -115.31767   \n",
       "2  5.10b/c        1     NaN       50.57212      -120.13874   \n",
       "3  5.10b/c        1    80.0       26.01097      -111.34166   \n",
       "4  5.10b/c        1    60.0       49.71393      -123.09943   \n",
       "\n",
       "                                                desc  \\\n",
       "0  This is a really great route~ with awesome exp...   \n",
       "1  from tabvar:     Cool fins to roof~ thin holds...   \n",
       "2  A safe mixed route with a bit of run out up to...   \n",
       "3  Start on a slab under a left leaning arched ro...   \n",
       "4  Fun technical climbing. Tricky right off the bat.   \n",
       "\n",
       "                                          protection   num_votes  \n",
       "0  12 draws + 60m Rope   Take 22 draws if you wan...          22  \n",
       "1                                  4 bolts to anchor           1  \n",
       "2                                  mixed~ gear to 4\"           3  \n",
       "3                                              bolts           1  \n",
       "4                                              bolts           3  "
      ]
     },
     "execution_count": 51,
     "metadata": {},
     "output_type": "execute_result"
    }
   ],
   "source": [
    "# Importing modules\n",
    "import pandas as pd\n",
    "\n",
    "file_path = \"dataset/mp_routes.csv\"\n",
    "\n",
    "# Read data into papers\n",
    "df = pd.read_csv(file_path)\n",
    "\n",
    "# Print head\n",
    "df.head()"
   ]
  },
  {
   "cell_type": "code",
   "execution_count": 52,
   "metadata": {},
   "outputs": [
    {
     "name": "stdout",
     "output_type": "stream",
     "text": [
      "Index(['Unnamed: 0', 'Route', 'Location', 'URL', 'Avg Stars', 'Route Type',\n",
      "       'Rating', 'Pitches', 'Length', 'Area Latitude', 'Area Longitude',\n",
      "       ' desc', ' protection', ' num_votes'],\n",
      "      dtype='object')\n",
      "Number of routes: 116700\n"
     ]
    }
   ],
   "source": [
    "# Print the column names\n",
    "print(df.columns)\n",
    "\n",
    "# Print number of rows\n",
    "print(\"Number of routes:\", len(df))"
   ]
  },
  {
   "cell_type": "code",
   "execution_count": 53,
   "metadata": {},
   "outputs": [
    {
     "data": {
      "text/html": [
       "<div>\n",
       "<style scoped>\n",
       "    .dataframe tbody tr th:only-of-type {\n",
       "        vertical-align: middle;\n",
       "    }\n",
       "\n",
       "    .dataframe tbody tr th {\n",
       "        vertical-align: top;\n",
       "    }\n",
       "\n",
       "    .dataframe thead th {\n",
       "        text-align: right;\n",
       "    }\n",
       "</style>\n",
       "<table border=\"1\" class=\"dataframe\">\n",
       "  <thead>\n",
       "    <tr style=\"text-align: right;\">\n",
       "      <th></th>\n",
       "      <th>Route</th>\n",
       "      <th>Location</th>\n",
       "      <th>Avg Stars</th>\n",
       "      <th>Rating</th>\n",
       "      <th>desc</th>\n",
       "    </tr>\n",
       "  </thead>\n",
       "  <tbody>\n",
       "    <tr>\n",
       "      <th>0</th>\n",
       "      <td>Access Denied</td>\n",
       "      <td>El Mirador &gt; El Potrero Chico &gt; Nuevo Leon &gt; N...</td>\n",
       "      <td>2.9</td>\n",
       "      <td>5.10b/c</td>\n",
       "      <td>This is a really great route~ with awesome exp...</td>\n",
       "    </tr>\n",
       "    <tr>\n",
       "      <th>1</th>\n",
       "      <td>Agave Nectar</td>\n",
       "      <td>Sugar Shack &gt; Cougar Canyon (Creek) - CONSTRUC...</td>\n",
       "      <td>2.0</td>\n",
       "      <td>5.10b/c</td>\n",
       "      <td>from tabvar:     Cool fins to roof~ thin holds...</td>\n",
       "    </tr>\n",
       "    <tr>\n",
       "      <th>2</th>\n",
       "      <td>Ant &amp; Bee do Yoga</td>\n",
       "      <td>The Hen House &gt; Kamloops &gt; British Columbia &gt; ...</td>\n",
       "      <td>2.7</td>\n",
       "      <td>5.10b/c</td>\n",
       "      <td>A safe mixed route with a bit of run out up to...</td>\n",
       "    </tr>\n",
       "    <tr>\n",
       "      <th>3</th>\n",
       "      <td>Besame Fuerte</td>\n",
       "      <td>Pilon De Lolita &gt; Loreto Area &gt; Baja Californi...</td>\n",
       "      <td>2.0</td>\n",
       "      <td>5.10b/c</td>\n",
       "      <td>Start on a slab under a left leaning arched ro...</td>\n",
       "    </tr>\n",
       "    <tr>\n",
       "      <th>4</th>\n",
       "      <td>Big Momma's Rock</td>\n",
       "      <td>The Courtyard &gt; Mamquam FSR &gt; Squamish &gt; Briti...</td>\n",
       "      <td>3.0</td>\n",
       "      <td>5.10b/c</td>\n",
       "      <td>Fun technical climbing. Tricky right off the bat.</td>\n",
       "    </tr>\n",
       "  </tbody>\n",
       "</table>\n",
       "</div>"
      ],
      "text/plain": [
       "               Route                                           Location  \\\n",
       "0      Access Denied  El Mirador > El Potrero Chico > Nuevo Leon > N...   \n",
       "1       Agave Nectar  Sugar Shack > Cougar Canyon (Creek) - CONSTRUC...   \n",
       "2  Ant & Bee do Yoga  The Hen House > Kamloops > British Columbia > ...   \n",
       "3      Besame Fuerte  Pilon De Lolita > Loreto Area > Baja Californi...   \n",
       "4   Big Momma's Rock  The Courtyard > Mamquam FSR > Squamish > Briti...   \n",
       "\n",
       "   Avg Stars   Rating                                               desc  \n",
       "0        2.9  5.10b/c  This is a really great route~ with awesome exp...  \n",
       "1        2.0  5.10b/c  from tabvar:     Cool fins to roof~ thin holds...  \n",
       "2        2.7  5.10b/c  A safe mixed route with a bit of run out up to...  \n",
       "3        2.0  5.10b/c  Start on a slab under a left leaning arched ro...  \n",
       "4        3.0  5.10b/c  Fun technical climbing. Tricky right off the bat.  "
      ]
     },
     "execution_count": 53,
     "metadata": {},
     "output_type": "execute_result"
    }
   ],
   "source": [
    "# Remove the columns\n",
    "df = df.drop(columns=['Unnamed: 0', 'URL', 'Route Type', 'Pitches', 'Length', 'Area Latitude', 'Area Longitude', ' protection', ' num_votes'], axis=1)\n",
    "\n",
    "# Print out the first rows of papers\n",
    "df.head()"
   ]
  },
  {
   "cell_type": "code",
   "execution_count": 54,
   "metadata": {},
   "outputs": [
    {
     "name": "stdout",
     "output_type": "stream",
     "text": [
      "Index(['Route', 'Location', 'Avg Stars', 'Rating', ' desc'], dtype='object')\n"
     ]
    }
   ],
   "source": [
    "print(df.columns)"
   ]
  },
  {
   "cell_type": "markdown",
   "metadata": {},
   "source": [
    "### Remove any rows with 0 length descriptions or more than 2000 word descriptions"
   ]
  },
  {
   "cell_type": "code",
   "execution_count": 55,
   "metadata": {},
   "outputs": [
    {
     "name": "stdout",
     "output_type": "stream",
     "text": [
      "Number of rows before removal: 116700\n",
      "Number of rows after removal: 116430\n"
     ]
    }
   ],
   "source": [
    "# Print the number of rows before removal\n",
    "print(\"Number of rows before removal:\", len(df))\n",
    "\n",
    "# Remove rows with descriptions containing 0 words or more than 2000 words\n",
    "df = df[(df[' desc'].str.split().str.len() > 0) & (df[' desc'].str.split().str.len() <= 2000)]\n",
    "\n",
    "# Print the number of rows after removal\n",
    "print(\"Number of rows after removal:\", len(df))"
   ]
  },
  {
   "cell_type": "code",
   "execution_count": 56,
   "metadata": {},
   "outputs": [
    {
     "data": {
      "text/plain": [
       "0    This is a really great route~ with awesome exp...\n",
       "1    from tabvar:     Cool fins to roof~ thin holds...\n",
       "2    A safe mixed route with a bit of run out up to...\n",
       "3    Start on a slab under a left leaning arched ro...\n",
       "4    Fun technical climbing. Tricky right off the bat.\n",
       "Name:  desc, dtype: object"
      ]
     },
     "execution_count": 56,
     "metadata": {},
     "output_type": "execute_result"
    }
   ],
   "source": [
    "df[' desc'].head()"
   ]
  },
  {
   "cell_type": "markdown",
   "metadata": {},
   "source": [
    "### Remove any routes with non-English descriptions"
   ]
  },
  {
   "cell_type": "code",
   "execution_count": 60,
   "metadata": {},
   "outputs": [
    {
     "name": "stdout",
     "output_type": "stream",
     "text": [
      "Number of rows after removal: 112699\n"
     ]
    }
   ],
   "source": [
    "from langdetect import detect\n",
    "\n",
    "# Function to check if a text is in English using langdetect\n",
    "def is_english(text):\n",
    "    try:\n",
    "        return detect(text) == 'en'\n",
    "    except:\n",
    "        return False\n",
    "    \n",
    "# Remove rows where the description is not in English\n",
    "df = df[df[' desc'].apply(is_english)]\n",
    "\n",
    "# Print the number of rows after removal of non-English\n",
    "print(\"Number of rows after removal:\", len(df))"
   ]
  },
  {
   "cell_type": "markdown",
   "metadata": {},
   "source": [
    "### Remove punctuation and lowercase all descriptions"
   ]
  },
  {
   "cell_type": "code",
   "execution_count": 62,
   "metadata": {},
   "outputs": [
    {
     "data": {
      "text/html": [
       "<div>\n",
       "<style scoped>\n",
       "    .dataframe tbody tr th:only-of-type {\n",
       "        vertical-align: middle;\n",
       "    }\n",
       "\n",
       "    .dataframe tbody tr th {\n",
       "        vertical-align: top;\n",
       "    }\n",
       "\n",
       "    .dataframe thead th {\n",
       "        text-align: right;\n",
       "    }\n",
       "</style>\n",
       "<table border=\"1\" class=\"dataframe\">\n",
       "  <thead>\n",
       "    <tr style=\"text-align: right;\">\n",
       "      <th></th>\n",
       "      <th>Route</th>\n",
       "      <th>Location</th>\n",
       "      <th>Avg Stars</th>\n",
       "      <th>Rating</th>\n",
       "      <th>desc</th>\n",
       "    </tr>\n",
       "  </thead>\n",
       "  <tbody>\n",
       "    <tr>\n",
       "      <th>0</th>\n",
       "      <td>Access Denied</td>\n",
       "      <td>El Mirador &gt; El Potrero Chico &gt; Nuevo Leon &gt; N...</td>\n",
       "      <td>2.9</td>\n",
       "      <td>5.10b/c</td>\n",
       "      <td>this is a really great route with awesome expo...</td>\n",
       "    </tr>\n",
       "    <tr>\n",
       "      <th>1</th>\n",
       "      <td>Agave Nectar</td>\n",
       "      <td>Sugar Shack &gt; Cougar Canyon (Creek) - CONSTRUC...</td>\n",
       "      <td>2.0</td>\n",
       "      <td>5.10b/c</td>\n",
       "      <td>from tabvar     cool fins to roof thin holds o...</td>\n",
       "    </tr>\n",
       "    <tr>\n",
       "      <th>2</th>\n",
       "      <td>Ant &amp; Bee do Yoga</td>\n",
       "      <td>The Hen House &gt; Kamloops &gt; British Columbia &gt; ...</td>\n",
       "      <td>2.7</td>\n",
       "      <td>5.10b/c</td>\n",
       "      <td>a safe mixed route with a bit of run out up to...</td>\n",
       "    </tr>\n",
       "    <tr>\n",
       "      <th>3</th>\n",
       "      <td>Besame Fuerte</td>\n",
       "      <td>Pilon De Lolita &gt; Loreto Area &gt; Baja Californi...</td>\n",
       "      <td>2.0</td>\n",
       "      <td>5.10b/c</td>\n",
       "      <td>start on a slab under a left leaning arched ro...</td>\n",
       "    </tr>\n",
       "    <tr>\n",
       "      <th>4</th>\n",
       "      <td>Big Momma's Rock</td>\n",
       "      <td>The Courtyard &gt; Mamquam FSR &gt; Squamish &gt; Briti...</td>\n",
       "      <td>3.0</td>\n",
       "      <td>5.10b/c</td>\n",
       "      <td>fun technical climbing tricky right off the bat</td>\n",
       "    </tr>\n",
       "  </tbody>\n",
       "</table>\n",
       "</div>"
      ],
      "text/plain": [
       "               Route                                           Location  \\\n",
       "0      Access Denied  El Mirador > El Potrero Chico > Nuevo Leon > N...   \n",
       "1       Agave Nectar  Sugar Shack > Cougar Canyon (Creek) - CONSTRUC...   \n",
       "2  Ant & Bee do Yoga  The Hen House > Kamloops > British Columbia > ...   \n",
       "3      Besame Fuerte  Pilon De Lolita > Loreto Area > Baja Californi...   \n",
       "4   Big Momma's Rock  The Courtyard > Mamquam FSR > Squamish > Briti...   \n",
       "\n",
       "   Avg Stars   Rating                                               desc  \n",
       "0        2.9  5.10b/c  this is a really great route with awesome expo...  \n",
       "1        2.0  5.10b/c  from tabvar     cool fins to roof thin holds o...  \n",
       "2        2.7  5.10b/c  a safe mixed route with a bit of run out up to...  \n",
       "3        2.0  5.10b/c  start on a slab under a left leaning arched ro...  \n",
       "4        3.0  5.10b/c    fun technical climbing tricky right off the bat  "
      ]
     },
     "execution_count": 62,
     "metadata": {},
     "output_type": "execute_result"
    }
   ],
   "source": [
    "import string\n",
    "\n",
    "# Remove punctuation and convert to lowercase\n",
    "def clean_text(text):\n",
    "    text = ''.join([char for char in text if char not in string.punctuation])\n",
    "    return text.lower()\n",
    "\n",
    "# Apply text cleaning to the description column\n",
    "df[' desc'] = df[' desc'].apply(clean_text)\n",
    "\n",
    "df.head()"
   ]
  },
  {
   "cell_type": "markdown",
   "metadata": {},
   "source": [
    "###  Save cleaned data to csv"
   ]
  },
  {
   "cell_type": "code",
   "execution_count": 63,
   "metadata": {},
   "outputs": [],
   "source": [
    "df.to_csv(\"mp_routes_clean.csv\", encoding='utf-8', index=False)"
   ]
  },
  {
   "cell_type": "markdown",
   "metadata": {},
   "source": [
    "### Read in cleaned data"
   ]
  },
  {
   "cell_type": "code",
   "execution_count": 7,
   "metadata": {},
   "outputs": [
    {
     "data": {
      "text/html": [
       "<div>\n",
       "<style scoped>\n",
       "    .dataframe tbody tr th:only-of-type {\n",
       "        vertical-align: middle;\n",
       "    }\n",
       "\n",
       "    .dataframe tbody tr th {\n",
       "        vertical-align: top;\n",
       "    }\n",
       "\n",
       "    .dataframe thead th {\n",
       "        text-align: right;\n",
       "    }\n",
       "</style>\n",
       "<table border=\"1\" class=\"dataframe\">\n",
       "  <thead>\n",
       "    <tr style=\"text-align: right;\">\n",
       "      <th></th>\n",
       "      <th>Route</th>\n",
       "      <th>Location</th>\n",
       "      <th>Avg Stars</th>\n",
       "      <th>Rating</th>\n",
       "      <th>desc</th>\n",
       "    </tr>\n",
       "  </thead>\n",
       "  <tbody>\n",
       "    <tr>\n",
       "      <th>0</th>\n",
       "      <td>Access Denied</td>\n",
       "      <td>El Mirador &gt; El Potrero Chico &gt; Nuevo Leon &gt; N...</td>\n",
       "      <td>2.9</td>\n",
       "      <td>5.10b/c</td>\n",
       "      <td>this is a really great route with awesome expo...</td>\n",
       "    </tr>\n",
       "    <tr>\n",
       "      <th>1</th>\n",
       "      <td>Agave Nectar</td>\n",
       "      <td>Sugar Shack &gt; Cougar Canyon (Creek) - CONSTRUC...</td>\n",
       "      <td>2.0</td>\n",
       "      <td>5.10b/c</td>\n",
       "      <td>from tabvar     cool fins to roof thin holds o...</td>\n",
       "    </tr>\n",
       "    <tr>\n",
       "      <th>2</th>\n",
       "      <td>Ant &amp; Bee do Yoga</td>\n",
       "      <td>The Hen House &gt; Kamloops &gt; British Columbia &gt; ...</td>\n",
       "      <td>2.7</td>\n",
       "      <td>5.10b/c</td>\n",
       "      <td>a safe mixed route with a bit of run out up to...</td>\n",
       "    </tr>\n",
       "    <tr>\n",
       "      <th>3</th>\n",
       "      <td>Besame Fuerte</td>\n",
       "      <td>Pilon De Lolita &gt; Loreto Area &gt; Baja Californi...</td>\n",
       "      <td>2.0</td>\n",
       "      <td>5.10b/c</td>\n",
       "      <td>start on a slab under a left leaning arched ro...</td>\n",
       "    </tr>\n",
       "    <tr>\n",
       "      <th>4</th>\n",
       "      <td>Big Momma's Rock</td>\n",
       "      <td>The Courtyard &gt; Mamquam FSR &gt; Squamish &gt; Briti...</td>\n",
       "      <td>3.0</td>\n",
       "      <td>5.10b/c</td>\n",
       "      <td>fun technical climbing tricky right off the bat</td>\n",
       "    </tr>\n",
       "  </tbody>\n",
       "</table>\n",
       "</div>"
      ],
      "text/plain": [
       "               Route                                           Location  \\\n",
       "0      Access Denied  El Mirador > El Potrero Chico > Nuevo Leon > N...   \n",
       "1       Agave Nectar  Sugar Shack > Cougar Canyon (Creek) - CONSTRUC...   \n",
       "2  Ant & Bee do Yoga  The Hen House > Kamloops > British Columbia > ...   \n",
       "3      Besame Fuerte  Pilon De Lolita > Loreto Area > Baja Californi...   \n",
       "4   Big Momma's Rock  The Courtyard > Mamquam FSR > Squamish > Briti...   \n",
       "\n",
       "   Avg Stars   Rating                                               desc  \n",
       "0        2.9  5.10b/c  this is a really great route with awesome expo...  \n",
       "1        2.0  5.10b/c  from tabvar     cool fins to roof thin holds o...  \n",
       "2        2.7  5.10b/c  a safe mixed route with a bit of run out up to...  \n",
       "3        2.0  5.10b/c  start on a slab under a left leaning arched ro...  \n",
       "4        3.0  5.10b/c    fun technical climbing tricky right off the bat  "
      ]
     },
     "execution_count": 7,
     "metadata": {},
     "output_type": "execute_result"
    }
   ],
   "source": [
    "# Importing modules\n",
    "import pandas as pd\n",
    "\n",
    "file_path = \"mp_routes_clean.csv\"\n",
    "\n",
    "# Read data into papers\n",
    "df = pd.read_csv(file_path)\n",
    "\n",
    "# Print head\n",
    "df.head()"
   ]
  },
  {
   "cell_type": "markdown",
   "metadata": {},
   "source": [
    "After cleaning there are 112,699 climbing routes."
   ]
  },
  {
   "cell_type": "markdown",
   "metadata": {},
   "source": [
    "## Some Exploratory Analysis"
   ]
  },
  {
   "cell_type": "code",
   "execution_count": 66,
   "metadata": {},
   "outputs": [
    {
     "data": {
      "image/jpeg": "[encoded data removed]",
      "image/png": "[encoded data removed]",
      "text/plain": [
       "<PIL.Image.Image image mode=RGB size=400x200>"
      ]
     },
     "execution_count": 66,
     "metadata": {},
     "output_type": "execute_result"
    }
   ],
   "source": [
    "# Import the wordcloud library\n",
    "from wordcloud import WordCloud\n",
    "\n",
    "# Join the different processed titles together.\n",
    "long_string = ','.join(list(df[' desc'].values))\n",
    "# Create a WordCloud object\n",
    "wordcloud = WordCloud(background_color=\"white\", max_words=5000, contour_width=3, contour_color='steelblue')\n",
    "# Generate a word cloud\n",
    "wordcloud.generate(long_string)\n",
    "# Visualize the word cloud\n",
    "wordcloud.to_image()"
   ]
  },
  {
   "cell_type": "markdown",
   "metadata": {},
   "source": [
    "## Topic Modeling"
   ]
  },
  {
   "cell_type": "markdown",
   "metadata": {},
   "source": [
    "### Train Topic Model"
   ]
  },
  {
   "cell_type": "code",
   "execution_count": 8,
   "metadata": {},
   "outputs": [
    {
     "name": "stderr",
     "output_type": "stream",
     "text": [
      "[nltk_data] Downloading package stopwords to\n",
      "[nltk_data]     C:\\Users\\cfmci\\AppData\\Roaming\\nltk_data...\n",
      "[nltk_data]   Package stopwords is already up-to-date!\n"
     ]
    }
   ],
   "source": [
    "import tomotopy\n",
    "import nltk\n",
    "nltk.download('stopwords')\n",
    "from nltk.corpus import stopwords"
   ]
  },
  {
   "cell_type": "markdown",
   "metadata": {},
   "source": [
    "Maybe we also want to add certain climbing terms that are not route style related to our stoplist?"
   ]
  },
  {
   "cell_type": "code",
   "execution_count": null,
   "metadata": {},
   "outputs": [],
   "source": [
    "more_stop_words = [\"anchor\", \"bolt\", \"climb\", \"belay\", \"left\", \"right\", \"bolts\", \"climbed\", \"first\", \"ascent\", \"north\", \"east\", \"south\", \"west\", \"rap\", \"route\", \"pitch\", \"pro\", \"cam\", \"cams\", \"finish\", \"crux\", \"start\", \"classic\", \"quality\", \"excellent\", \"fun\", \"climbing\"]"
   ]
  },
  {
   "cell_type": "code",
   "execution_count": 16,
   "metadata": {},
   "outputs": [],
   "source": [
    "# 20-topic model populated with documents from our reviews (with stopwords removed)\n",
    "stoplist = set(stopwords.words('english'))\n",
    "# stoplist.extend(more_stop_words)\n",
    "\n",
    "n_topics = 30\n",
    "n_docs = len(df)\n",
    "\n",
    "mdl = tomotopy.LDAModel(k=n_topics)\n",
    "for desc in df[' desc']:\n",
    "  words = desc.split()\n",
    "  mdl.add_doc([w for w in words if w not in stoplist and w.isalpha()])"
   ]
  },
  {
   "cell_type": "code",
   "execution_count": 17,
   "metadata": {},
   "outputs": [
    {
     "name": "stdout",
     "output_type": "stream",
     "text": [
      "Iteration: 50\tLog-likelihood: -8.287460806247962\n",
      "Iteration: 100\tLog-likelihood: -8.151680766772138\n",
      "Iteration: 150\tLog-likelihood: -8.102983730079615\n",
      "Iteration: 200\tLog-likelihood: -8.076731080314795\n",
      "Iteration: 250\tLog-likelihood: -8.0602138699608\n",
      "Iteration: 300\tLog-likelihood: -8.051148197584409\n",
      "Iteration: 350\tLog-likelihood: -8.046434314557764\n",
      "Iteration: 400\tLog-likelihood: -8.038575536293902\n",
      "Iteration: 450\tLog-likelihood: -8.034342209133845\n",
      "Iteration: 500\tLog-likelihood: -8.032792376829779\n",
      "Iteration: 550\tLog-likelihood: -8.029986234644243\n",
      "Iteration: 600\tLog-likelihood: -8.025295175338057\n",
      "Iteration: 650\tLog-likelihood: -8.021873754710148\n",
      "Iteration: 700\tLog-likelihood: -8.01828000505799\n",
      "Iteration: 750\tLog-likelihood: -8.017422253326652\n",
      "Iteration: 800\tLog-likelihood: -8.014748881061086\n",
      "Iteration: 850\tLog-likelihood: -8.013514559467747\n",
      "Iteration: 900\tLog-likelihood: -8.00956516018953\n",
      "Iteration: 950\tLog-likelihood: -8.007632893907578\n",
      "Iteration: 1000\tLog-likelihood: -8.00748286395906\n"
     ]
    }
   ],
   "source": [
    "# Most converging will happen fast, but we'll run for 1000 iterations just in case\n",
    "# (this will take a minute)\n",
    "iters_per_check = 50\n",
    "for i in range(0, 1000, iters_per_check):\n",
    "    mdl.train(iters_per_check)\n",
    "    print('Iteration: {}\\tLog-likelihood: {}'.format(i+iters_per_check, mdl.ll_per_word))"
   ]
  },
  {
   "cell_type": "code",
   "execution_count": 18,
   "metadata": {},
   "outputs": [
    {
     "name": "stdout",
     "output_type": "stream",
     "text": [
      "Top 25 words by topic\n",
      "#0: crack right climb left face top follow hand finger cracks start ledge thin system feet obvious traverse short wide horizontal finish continue anchor seam side\n",
      "#1: pitch belay ledge left right corner climb crack continue traverse feet large chimney roof system small easy pitches tree move top climbing base rock another\n",
      "#2: ridge summit class route north east rock south west gully side face notch snow climb easy scramble peak traverse follow descent steep trail pitches feet\n",
      "#3: bolt first clip crux second moves third bolts move start clipping last stick climbing climb anchors make route high ground past right ledge easy getting\n",
      "#4: route climbing one line routes rock best wall crux good great grade classic quality excellent climbs long well bit two many sustained difficult moves first\n",
      "#5: bolt bolts anchor past climb right two left face slab gear ledge continue clip move small another follow bolted first flake climbing straight steep thin\n",
      "#6: right black left slab groove climb streak water rock anchors wall follow white double dark continue steep line bolt bolts bulge orange climbs brown start\n",
      "#7: climbing crux moves fun face start slab route leads easy steep easier section thin holds bulge top good tricky low anchors short technical sustained first\n",
      "#8: pitch belay rope anchor rap two bolts first top second ledge pitches rappel one bolted anchors route single ground ropes climbing back feet bolt station\n",
      "#9: route first climbed ascent fa line name years done bolted originally one new time bolts lead climb old put original back added would could named\n",
      "#10: boulder rest crux problem moves climbing route hard steep technical powerful jug pumpy one long final chains pump big wall overhanging start roof holds good\n",
      "#11: route right wall left side line climbs climb face arete top anchors starts routes bolts bolted upper far middle crag main lower cliff one anchor\n",
      "#12: roof pull right left small climb start anchors lip face crux continue traverse big move finish head slab large dihedral jugs roofs pulling side get\n",
      "#13: route guide guidebook book rating topo better name see know listed harder description make felt rated please like photo page use says routes grade link\n",
      "#14: named climb climbs time name man like life dog anchors canyon climbers cat start black love routes take need new aka sport five thanks sick\n",
      "#15: pitch belay free aid fixed pin traverse pitches pins old r ledge one two first climbing summit crack ladder corner thin rock climb arch l\n",
      "#16: rope top drag route anchor rock long use left lower anchors much set around climber belayer right draws slings climbing could avoid reduce loose sling\n",
      "#17: tree right left climb ft slab ledge belay pine top rap large trees anchor small continue start feet cliff corner move rock straight base end\n",
      "#18: side top climb route face right chimney left rock feet west base south east north wall summit large gully scramble tower walk trail formation boulder\n",
      "#19: left right climb arete face ledge top move start onto side overhang large step slab block corner continue flake crack wall small finish around follow\n",
      "#20: trail ridge route climbing rock side interesting see approach summit cable around along descent way vertical parking road hiking n perhaps reach difficult south pass\n",
      "#21: rock route loose good dirty top bit climb clean fun little quality still would solid traffic climbing pretty holds better blocks lichen section may get\n",
      "#22: get route one like way dont little climb good really hard would go pretty youre much bit might find fun climbing probably think youll make\n",
      "#23: corner left right climb dihedral facing ledge roof face top crack start small leftfacing rightfacing flake shallow follow continue system feet large obvious past traverse\n",
      "#24: holds good move moves right crux bolt feet left get small big reach make clip jug crimps pockets pull rest start jugs first pocket hand\n",
      "#25: bolt bolts right left start line first anchor anchors route two straight past climb finish last traverse follow direct head variation go shares crux continue\n",
      "#26: la de le et el à gauche fissure un du en edition sur uli laos weidner les tanja une dans left volker droite voie del\n",
      "#27: crack hands chimney hand finger wide offwidth fingers splitter corner thin feet jams top climb jam short stemming section stem start gear good fist way\n",
      "#28: route good fun great climbing holds rock climb nice face moves steep pockets short easy lead crux wall edges climbs big really top little jugs\n",
      "#29: gear crack good place small pro cams cam crux feet protect protection top placements protected get piece well camalot lead flake anchor first placement trad\n"
     ]
    }
   ],
   "source": [
    "# Print top 25 words of each topic\n",
    "print(\"Top 25 words by topic\")\n",
    "for k in range(n_topics):\n",
    "    print('#{}: {}'.format(k, ' '.join([w for (w, prop) in mdl.get_topic_words(k, top_n=25)])))"
   ]
  },
  {
   "cell_type": "code",
   "execution_count": 19,
   "metadata": {},
   "outputs": [
    {
     "name": "stdout",
     "output_type": "stream",
     "text": [
      "<Basic Info>\n",
      "| LDAModel (current version: 0.12.7)\n",
      "| 112676 docs, 4081070 words\n",
      "| Total Vocabs: 71381, Used Vocabs: 71381\n",
      "| Entropy of words: 7.10545\n",
      "| Entropy of term-weighted words: 7.10545\n",
      "| Removed Vocabs: <NA>\n",
      "|\n",
      "<Training Info>\n",
      "| Iterations: 1000, Burn-in steps: 0\n",
      "| Optimization Interval: 10\n",
      "| Log-likelihood per word: -8.00748\n",
      "|\n",
      "<Initial Parameters>\n",
      "| tw: TermWeight.ONE\n",
      "| min_cf: 0 (minimum collection frequency of words)\n",
      "| min_df: 0 (minimum document frequency of words)\n",
      "| rm_top: 0 (the number of top words to be removed)\n",
      "| k: 30 (the number of topics between 1 ~ 32767)\n",
      "| alpha: [0.1] (hyperparameter of Dirichlet distribution for document-topic, given as a single `float` in case of symmetric prior and as a list with length `k` of `float` in case of asymmetric prior.)\n",
      "| eta: 0.01 (hyperparameter of Dirichlet distribution for topic-word)\n",
      "| seed: 47183002 (random seed)\n",
      "| trained in version 0.12.7\n",
      "|\n",
      "<Parameters>\n",
      "| alpha (Dirichlet prior on the per-document topic distributions)\n",
      "|  [0.19368961 0.11750922 0.04168839 0.14224273 0.19209315 0.14973697\n",
      "|   0.05749914 0.35356277 0.09670185 0.08762427 0.13618189 0.15571497\n",
      "|   0.12549682 0.05528293 0.03650426 0.02772273 0.03919371 0.0604794\n",
      "|   0.11624917 0.20091154 0.01125433 0.12840389 0.24936606 0.13825275\n",
      "|   0.17576203 0.14362618 0.00924693 0.11432037 0.23369096 0.10840099]\n",
      "| eta (Dirichlet prior on the per-topic word distribution)\n",
      "|  0.01\n",
      "|\n",
      "<Topics>\n",
      "| #0 (179559) : crack right climb left face\n",
      "| #1 (270002) : pitch belay ledge left right\n",
      "| #2 (108926) : ridge summit class route north\n",
      "| #3 (144349) : bolt first clip crux second\n",
      "| #4 (211048) : route climbing one line routes\n",
      "| #5 (179652) : bolt bolts anchor past climb\n",
      "| #6 (54500) : right black left slab groove\n",
      "| #7 (279109) : climbing crux moves fun face\n",
      "| #8 (156237) : pitch belay rope anchor rap\n",
      "| #9 (117026) : route first climbed ascent fa\n",
      "| #10 (142267) : boulder rest crux problem moves\n",
      "| #11 (125787) : route right wall left side\n",
      "| #12 (110857) : roof pull right left small\n",
      "| #13 (56530) : route guide guidebook book rating\n",
      "| #14 (34709) : named climb climbs time name\n",
      "| #15 (46259) : pitch belay free aid fixed\n",
      "| #16 (50239) : rope top drag route anchor\n",
      "| #17 (89102) : tree right left climb ft\n",
      "| #18 (141755) : side top climb route face\n",
      "| #19 (198660) : left right climb arete face\n",
      "| #20 (29181) : trail ridge route climbing rock\n",
      "| #21 (131423) : rock route loose good dirty\n",
      "| #22 (304037) : get route one like way\n",
      "| #23 (134506) : corner left right climb dihedral\n",
      "| #24 (199403) : holds good move moves right\n",
      "| #25 (130755) : bolt bolts right left start\n",
      "| #26 (11736) : la de le et el\n",
      "| #27 (128362) : crack hands chimney hand finger\n",
      "| #28 (177948) : route good fun great climbing\n",
      "| #29 (137146) : gear crack good place small\n",
      "|\n",
      "\n"
     ]
    }
   ],
   "source": [
    "# Survey stats\n",
    "# See https://bab2min.github.io/tomotopy/v0.4.1/en/#tomotopy.LDAModel.infer\n",
    "mdl.summary()"
   ]
  },
  {
   "cell_type": "markdown",
   "metadata": {},
   "source": [
    "## Cluster Topic Vectors"
   ]
  },
  {
   "cell_type": "code",
   "execution_count": 22,
   "metadata": {},
   "outputs": [],
   "source": [
    "from collections import Counter\n",
    "\n",
    "import matplotlib\n",
    "from matplotlib import pyplot as plt\n",
    "import numpy as np\n",
    "from sklearn.cluster import KMeans\n",
    "from sklearn.manifold import TSNE\n",
    "import seaborn as sns"
   ]
  },
  {
   "cell_type": "code",
   "execution_count": 23,
   "metadata": {},
   "outputs": [],
   "source": [
    "# Let's get the topic proportions for each document\n",
    "doc_topic_props = np.zeros(shape=(n_docs, n_topics))\n",
    "for i, doc in enumerate(mdl.docs):\n",
    "    doc_topic_props[i, :] = doc.get_topic_dist()"
   ]
  },
  {
   "cell_type": "code",
   "execution_count": 24,
   "metadata": {},
   "outputs": [
    {
     "name": "stderr",
     "output_type": "stream",
     "text": [
      "c:\\Users\\cfmci\\anaconda3\\envs\\Propaganda\\lib\\site-packages\\sklearn\\cluster\\_kmeans.py:1412: FutureWarning: The default value of `n_init` will change from 10 to 'auto' in 1.4. Set the value of `n_init` explicitly to suppress the warning\n",
      "  super()._check_params_vs_input(X, default_n_init=10)\n"
     ]
    }
   ],
   "source": [
    "# Now, let's try to get five clusters from KMeans\n",
    "# https://scikit-learn.org/stable/modules/generated/sklearn.cluster.KMeans.html\n",
    "n_clusters = 5\n",
    "kmm = KMeans(n_clusters=n_clusters)\n",
    "cluster_labels = kmm.fit_predict(doc_topic_props)"
   ]
  },
  {
   "cell_type": "code",
   "execution_count": 27,
   "metadata": {},
   "outputs": [
    {
     "name": "stdout",
     "output_type": "stream",
     "text": [
      "Documents in cluster 0:\n",
      "Document 40015: first bolt is a little high  crux is pulling through roof from 3rd to 4th bolt  really fun climb takes some time to figur out the beta...\n",
      "Document 37985: from a point above cirque lake and almost directly below the large tower on the ridge climb chimneys flakes and slab to the east ridge route ...\n",
      "Document 105886: p1 10ab gear to 1 camalot 5 bolts this is the second of the right facing corners moving left to right it looks like the profile of old man withers fun mixed climbing two bolt anchor 30m  p28 gear to 1 camalot from the anchor head straight up over easy ground make the steep committing but well featured moves over the roof 58 paddle up the slab to the two bolt anchor on the left side of the midway ledge 25m  p3 8 gear to 3 camalot from the anchor head up and right up a thin seam then move up and right up the wider crack belay at the anchor at the base of the beautiful right facing corner this corner is the fourth pitch of tramp stamp granny...\n",
      "Document 94646: nice face to roof good kneebar continue straight up on thin steep face or escape right to bushy ledges...\n",
      "Document 73456: start on first bolt of black bear pull over small roof on big holds scramble up easy 4th class ramp to start of inside corner crack dont fall before you place that first piece  muchachos y muchachas the crux of the climb is protected by a bolt if you fall off the ramp before you get a piece in you probably shouldnt have been attempting to climb the crack in other words its safe my babies pg...\n",
      "Documents in cluster 1:\n",
      "Document 51313: this route is on the cover of the new guide book for the laramie range  it might be the best route in the stuffed canyon area  following interesting patina face climbing to a steep bulge  think fast the clock is ticking    do this route...\n",
      "Document 73949: about 20 feet right and uphill of youre so vain climb very featured rock past a couple bolts until you can pull left into a shallow left facing corner  continue up to a big comfy ledge and the belay anchors for youre so vain  rap or continue on the second pitch of youre so vain...\n",
      "Document 39458: this fine line has multiple cruxes and several good rests  it just goes and goes and goes for 90 feet 60 meter required  it pulls a small roof at about 80 feet  a great route      obviously it is wise to avoid touching the massive detached flake which is right of this route        this route was bolted solely for the purpose of allowing for the first ascent and the first ascent information is posted here solely to document the history of the first ascent no person should read this posting with the assumption that this route or the fixed gear left behind is safe in any way or otherwise appropriate to allow for safe subsequent ascents climbing is dangerous and should only be done with the appropriate training and risk management practices that include providing for the climbers own safety attempting to climb this route as described above or by any other means or methods could result in injury or death...\n",
      "Document 87810: an offwidth corner with big rests  you could lieback it go straight in or mix it up  it starts fat and quickly gets to 56 width  there are several big rests on ledges inside and outside the crack  you can easily set up a tr from unknown 59...\n",
      "Document 48140: the far left route at the wall just left of the left gully supreme onion goes up the slightly over hanging often wet wall there are a few tricky moves at about 23 of the way up the route as the route heads right before going straight up to the top a good rest can be gained near the crux     people who dont figure out the beta say the route sucks those who figure it out say its fun which one are you    the only down side to this one in my mind is the wetness bummer...\n",
      "Documents in cluster 2:\n",
      "Document 37931: this description is for the upper third of the climb from the valhalla traverse ledge as it is usually climbed    adapted from ortenburgers guide  ortenburger l n  jackson r g 1996 a climbers guide to the teton range p 214 seattle wa mountaineers    p1  57 to the base of a flake   p2  56 up the right side of the flake into black rock   p3  56 through break   p4  56 ow flake   p5  56 ow chimney   scramble along crest 350   p6  58 ow to enclosure col   p7  57 crack   p8  56 right around overhang   p9  easy 5th along ridge   p10  57 crack   scramble up black rock   p11  58 awkward step past fixed pin...\n",
      "Document 14820: the crux is a boulder reachy start up chossy rock through overhung face...\n",
      "Document 69764: crimpy beginning to a steep finish...\n",
      "Document 55275: starts with the same moves as preachers daughter but has its own first bolt traverses left on easy ramp for 4 bolts at which point the real climbing starts...\n",
      "Document 110447: baba fats is on the left side of gregs cliff the approach trail will drop you right in front of the route    a classic route although there are rests the route is deceptively overhanging and strenuous follow the black streak in the rock starting at a small slabby section the climbing is primarily face climbing on horizontal holds the crux is a long strenuous section in the middle of the route...\n",
      "Documents in cluster 3:\n",
      "Document 107221: a steep start veers a bit left into slab and gets steeper again at the top the slab is probably the hardest part...\n",
      "Document 101384: stellar route 60 of 511 climbing up a steep to overhanging face using liebacks and face holds 60 up you get a bomber jug but very little rest then comes the 20 feet of hard overhanging face climbing 3 back to back cruxes up the overhang to mussey hooks...\n",
      "Document 30867: this line has fun movement but the difficulties are short and the rock is subpar even for dirt wall a quick crux off the ground passing the second and third bolts leads to substantially easier ground and the mid anchors 12a to here     from the great rest on the ledge continue up the right facing dihedral passing a hidden bolt at the top of the dihedral snag a nice rest on top of the now detached flake clip another bolt and pull the hard reach dependent crux after the crux continue on smaller holds past another bolt to the top of the wall and the anchors     i found the crux really hard with this so im going with the original grade of 12d perhaps it is easier for taller people or maybe i was missing something     i also found the crux moves scary as i had my foot cammed behind the flake making for a potentially bad fall so i hung 6ft of draws off the last bolt so i could clip high before entering the crux section...\n",
      "Document 84973: frigtnight offers desperate climbing between good shakes  the technical crux comes just above the third bolt involving big moves off very small crimps  however two large lockoffs above and a tricky sequence just before the crux make the route quite pumpy  from the fifth bolt move left into the finish of bela lugosi  the rating given applies to this finish the direct finish is much harder  all in all frightnight offers great moves good position and solid rock...\n",
      "Document 27252: steep and pumpy big fun there are a lot of incredible moves and incredible photo opportunities due to the steep nature of this route and there a lot of good angles to work from the ground...\n",
      "Documents in cluster 4:\n",
      "Document 111159: climb the right side of the cave feature out a bulge then up a friendly slab to the anchors...\n",
      "Document 69204: delicate start cruxy heading for bolts 3 and 4 traverse right to access 4 after follow the flaky orange part on the the left to the anchor clipping 2 quite spaced bolts...\n",
      "Document 100027: the puzzler climbs a line of seven bolts up the right side of the crag  the first half of this route is shared with arch of dimes before moving left on the upper face the merging back together at the anchor  due to the bottom of the climb falling down some aspects of this route may have changed so be careful...\n",
      "Document 64387: begin 10 left of air show climb corner crack system up to the roof ...\n",
      "Document 64372: scary to lead but if youre on top rope youll be able to enjoy the interesting cruxes and the otherwise not as good as youd hope horizontals...\n"
     ]
    }
   ],
   "source": [
    "# Let's get some sample documents from each label:\n",
    "n_sample_docs = 5\n",
    "for k in range(n_clusters):\n",
    "    print(f\"Documents in cluster {k}:\")\n",
    "    cluster_doc_idxs = np.argwhere(cluster_labels == k).ravel()\n",
    "    random_doc_idxs = np.random.choice(cluster_doc_idxs, size=n_sample_docs, replace=False)\n",
    "    for didx in random_doc_idxs:\n",
    "      print(\"Document {}: {}...\".format(didx, df.loc[didx, ' desc']))"
   ]
  },
  {
   "cell_type": "code",
   "execution_count": 28,
   "metadata": {},
   "outputs": [],
   "source": [
    "# We want to visualize our clusters, so we'll do dimensionality reduction with t-SNE\n",
    "# https://scikit-learn.org/stable/modules/generated/sklearn.manifold.TSNE.html\n",
    "# note - TSNE is slow!\n",
    "tsne_docs = TSNE().fit_transform(doc_topic_props)"
   ]
  },
  {
   "cell_type": "code",
   "execution_count": null,
   "metadata": {},
   "outputs": [],
   "source": [
    "# Basic plotting approach: a scatterplot\n",
    "sns.scatterplot(x=tsne_docs[:,0], y=tsne_docs[:,1], hue=[str(l) for l in cluster_labels], alpha=0.4, s=10, linewidth=0, hue_order=(str(i) for i in range(n_clusters)))"
   ]
  },
  {
   "cell_type": "markdown",
   "metadata": {},
   "source": [
    "### Label Topics Related to Climbing Route Styles\n",
    "Each route can get multiple labels. If no style can be reasonably associated with a route, label it as unknown."
   ]
  },
  {
   "cell_type": "code",
   "execution_count": null,
   "metadata": {},
   "outputs": [],
   "source": []
  },
  {
   "cell_type": "markdown",
   "metadata": {},
   "source": [
    "## Classifier"
   ]
  },
  {
   "cell_type": "markdown",
   "metadata": {},
   "source": []
  }
 ],
 "metadata": {
  "kernelspec": {
   "display_name": "Propaganda",
   "language": "python",
   "name": "python3"
  },
  "language_info": {
   "codemirror_mode": {
    "name": "ipython",
    "version": 3
   },
   "file_extension": ".py",
   "mimetype": "text/x-python",
   "name": "python",
   "nbconvert_exporter": "python",
   "pygments_lexer": "ipython3",
   "version": "3.9.18"
  }
 },
 "nbformat": 4,
 "nbformat_minor": 2
}
