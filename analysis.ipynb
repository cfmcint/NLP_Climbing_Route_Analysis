{
 "cells": [
  {
   "cell_type": "markdown",
   "metadata": {},
   "source": [
    "# Analyzing"
   ]
  },
  {
   "cell_type": "markdown",
   "metadata": {},
   "source": [
    "### Read in the Mountain Project csv into pandas dataframe"
   ]
  },
  {
   "cell_type": "code",
   "execution_count": 51,
   "metadata": {},
   "outputs": [
    {
     "data": {
      "text/html": [
       "<div>\n",
       "<style scoped>\n",
       "    .dataframe tbody tr th:only-of-type {\n",
       "        vertical-align: middle;\n",
       "    }\n",
       "\n",
       "    .dataframe tbody tr th {\n",
       "        vertical-align: top;\n",
       "    }\n",
       "\n",
       "    .dataframe thead th {\n",
       "        text-align: right;\n",
       "    }\n",
       "</style>\n",
       "<table border=\"1\" class=\"dataframe\">\n",
       "  <thead>\n",
       "    <tr style=\"text-align: right;\">\n",
       "      <th></th>\n",
       "      <th>Unnamed: 0</th>\n",
       "      <th>Route</th>\n",
       "      <th>Location</th>\n",
       "      <th>URL</th>\n",
       "      <th>Avg Stars</th>\n",
       "      <th>Route Type</th>\n",
       "      <th>Rating</th>\n",
       "      <th>Pitches</th>\n",
       "      <th>Length</th>\n",
       "      <th>Area Latitude</th>\n",
       "      <th>Area Longitude</th>\n",
       "      <th>desc</th>\n",
       "      <th>protection</th>\n",
       "      <th>num_votes</th>\n",
       "    </tr>\n",
       "  </thead>\n",
       "  <tbody>\n",
       "    <tr>\n",
       "      <th>0</th>\n",
       "      <td>0</td>\n",
       "      <td>Access Denied</td>\n",
       "      <td>El Mirador &gt; El Potrero Chico &gt; Nuevo Leon &gt; N...</td>\n",
       "      <td>https://www.mountainproject.com/route/11014983...</td>\n",
       "      <td>2.9</td>\n",
       "      <td>Sport</td>\n",
       "      <td>5.10b/c</td>\n",
       "      <td>4</td>\n",
       "      <td>350.0</td>\n",
       "      <td>25.95044</td>\n",
       "      <td>-100.47755</td>\n",
       "      <td>This is a really great route~ with awesome exp...</td>\n",
       "      <td>12 draws + 60m Rope   Take 22 draws if you wan...</td>\n",
       "      <td>22</td>\n",
       "    </tr>\n",
       "    <tr>\n",
       "      <th>1</th>\n",
       "      <td>1</td>\n",
       "      <td>Agave Nectar</td>\n",
       "      <td>Sugar Shack &gt; Cougar Canyon (Creek) - CONSTRUC...</td>\n",
       "      <td>https://www.mountainproject.com/route/11091386...</td>\n",
       "      <td>2.0</td>\n",
       "      <td>Sport</td>\n",
       "      <td>5.10b/c</td>\n",
       "      <td>1</td>\n",
       "      <td>NaN</td>\n",
       "      <td>51.09642</td>\n",
       "      <td>-115.31767</td>\n",
       "      <td>from tabvar:     Cool fins to roof~ thin holds...</td>\n",
       "      <td>4 bolts to anchor</td>\n",
       "      <td>1</td>\n",
       "    </tr>\n",
       "    <tr>\n",
       "      <th>2</th>\n",
       "      <td>2</td>\n",
       "      <td>Ant &amp; Bee do Yoga</td>\n",
       "      <td>The Hen House &gt; Kamloops &gt; British Columbia &gt; ...</td>\n",
       "      <td>https://www.mountainproject.com/route/11240652...</td>\n",
       "      <td>2.7</td>\n",
       "      <td>Trad</td>\n",
       "      <td>5.10b/c</td>\n",
       "      <td>1</td>\n",
       "      <td>NaN</td>\n",
       "      <td>50.57212</td>\n",
       "      <td>-120.13874</td>\n",
       "      <td>A safe mixed route with a bit of run out up to...</td>\n",
       "      <td>mixed~ gear to 4\"</td>\n",
       "      <td>3</td>\n",
       "    </tr>\n",
       "    <tr>\n",
       "      <th>3</th>\n",
       "      <td>3</td>\n",
       "      <td>Besame Fuerte</td>\n",
       "      <td>Pilon De Lolita &gt; Loreto Area &gt; Baja Californi...</td>\n",
       "      <td>https://www.mountainproject.com/route/11608640...</td>\n",
       "      <td>2.0</td>\n",
       "      <td>Sport</td>\n",
       "      <td>5.10b/c</td>\n",
       "      <td>1</td>\n",
       "      <td>80.0</td>\n",
       "      <td>26.01097</td>\n",
       "      <td>-111.34166</td>\n",
       "      <td>Start on a slab under a left leaning arched ro...</td>\n",
       "      <td>bolts</td>\n",
       "      <td>1</td>\n",
       "    </tr>\n",
       "    <tr>\n",
       "      <th>4</th>\n",
       "      <td>4</td>\n",
       "      <td>Big Momma's Rock</td>\n",
       "      <td>The Courtyard &gt; Mamquam FSR &gt; Squamish &gt; Briti...</td>\n",
       "      <td>https://www.mountainproject.com/route/11445772...</td>\n",
       "      <td>3.0</td>\n",
       "      <td>Sport</td>\n",
       "      <td>5.10b/c</td>\n",
       "      <td>1</td>\n",
       "      <td>60.0</td>\n",
       "      <td>49.71393</td>\n",
       "      <td>-123.09943</td>\n",
       "      <td>Fun technical climbing. Tricky right off the bat.</td>\n",
       "      <td>bolts</td>\n",
       "      <td>3</td>\n",
       "    </tr>\n",
       "  </tbody>\n",
       "</table>\n",
       "</div>"
      ],
      "text/plain": [
       "   Unnamed: 0              Route  \\\n",
       "0           0      Access Denied   \n",
       "1           1       Agave Nectar   \n",
       "2           2  Ant & Bee do Yoga   \n",
       "3           3      Besame Fuerte   \n",
       "4           4   Big Momma's Rock   \n",
       "\n",
       "                                            Location  \\\n",
       "0  El Mirador > El Potrero Chico > Nuevo Leon > N...   \n",
       "1  Sugar Shack > Cougar Canyon (Creek) - CONSTRUC...   \n",
       "2  The Hen House > Kamloops > British Columbia > ...   \n",
       "3  Pilon De Lolita > Loreto Area > Baja Californi...   \n",
       "4  The Courtyard > Mamquam FSR > Squamish > Briti...   \n",
       "\n",
       "                                                 URL  Avg Stars Route Type  \\\n",
       "0  https://www.mountainproject.com/route/11014983...        2.9      Sport   \n",
       "1  https://www.mountainproject.com/route/11091386...        2.0      Sport   \n",
       "2  https://www.mountainproject.com/route/11240652...        2.7       Trad   \n",
       "3  https://www.mountainproject.com/route/11608640...        2.0      Sport   \n",
       "4  https://www.mountainproject.com/route/11445772...        3.0      Sport   \n",
       "\n",
       "    Rating  Pitches  Length  Area Latitude  Area Longitude  \\\n",
       "0  5.10b/c        4   350.0       25.95044      -100.47755   \n",
       "1  5.10b/c        1     NaN       51.09642      -115.31767   \n",
       "2  5.10b/c        1     NaN       50.57212      -120.13874   \n",
       "3  5.10b/c        1    80.0       26.01097      -111.34166   \n",
       "4  5.10b/c        1    60.0       49.71393      -123.09943   \n",
       "\n",
       "                                                desc  \\\n",
       "0  This is a really great route~ with awesome exp...   \n",
       "1  from tabvar:     Cool fins to roof~ thin holds...   \n",
       "2  A safe mixed route with a bit of run out up to...   \n",
       "3  Start on a slab under a left leaning arched ro...   \n",
       "4  Fun technical climbing. Tricky right off the bat.   \n",
       "\n",
       "                                          protection   num_votes  \n",
       "0  12 draws + 60m Rope   Take 22 draws if you wan...          22  \n",
       "1                                  4 bolts to anchor           1  \n",
       "2                                  mixed~ gear to 4\"           3  \n",
       "3                                              bolts           1  \n",
       "4                                              bolts           3  "
      ]
     },
     "execution_count": 51,
     "metadata": {},
     "output_type": "execute_result"
    }
   ],
   "source": [
    "# Importing modules\n",
    "import pandas as pd\n",
    "\n",
    "file_path = \"dataset/mp_routes.csv\"\n",
    "\n",
    "# Read data into papers\n",
    "df = pd.read_csv(file_path)\n",
    "\n",
    "# Print head\n",
    "df.head()"
   ]
  },
  {
   "cell_type": "code",
   "execution_count": 52,
   "metadata": {},
   "outputs": [
    {
     "name": "stdout",
     "output_type": "stream",
     "text": [
      "Index(['Unnamed: 0', 'Route', 'Location', 'URL', 'Avg Stars', 'Route Type',\n",
      "       'Rating', 'Pitches', 'Length', 'Area Latitude', 'Area Longitude',\n",
      "       ' desc', ' protection', ' num_votes'],\n",
      "      dtype='object')\n",
      "Number of routes: 116700\n"
     ]
    }
   ],
   "source": [
    "# Print the column names\n",
    "print(df.columns)\n",
    "\n",
    "# Print number of rows\n",
    "print(\"Number of routes:\", len(df))"
   ]
  },
  {
   "cell_type": "code",
   "execution_count": 53,
   "metadata": {},
   "outputs": [
    {
     "data": {
      "text/html": [
       "<div>\n",
       "<style scoped>\n",
       "    .dataframe tbody tr th:only-of-type {\n",
       "        vertical-align: middle;\n",
       "    }\n",
       "\n",
       "    .dataframe tbody tr th {\n",
       "        vertical-align: top;\n",
       "    }\n",
       "\n",
       "    .dataframe thead th {\n",
       "        text-align: right;\n",
       "    }\n",
       "</style>\n",
       "<table border=\"1\" class=\"dataframe\">\n",
       "  <thead>\n",
       "    <tr style=\"text-align: right;\">\n",
       "      <th></th>\n",
       "      <th>Route</th>\n",
       "      <th>Location</th>\n",
       "      <th>Avg Stars</th>\n",
       "      <th>Rating</th>\n",
       "      <th>desc</th>\n",
       "    </tr>\n",
       "  </thead>\n",
       "  <tbody>\n",
       "    <tr>\n",
       "      <th>0</th>\n",
       "      <td>Access Denied</td>\n",
       "      <td>El Mirador &gt; El Potrero Chico &gt; Nuevo Leon &gt; N...</td>\n",
       "      <td>2.9</td>\n",
       "      <td>5.10b/c</td>\n",
       "      <td>This is a really great route~ with awesome exp...</td>\n",
       "    </tr>\n",
       "    <tr>\n",
       "      <th>1</th>\n",
       "      <td>Agave Nectar</td>\n",
       "      <td>Sugar Shack &gt; Cougar Canyon (Creek) - CONSTRUC...</td>\n",
       "      <td>2.0</td>\n",
       "      <td>5.10b/c</td>\n",
       "      <td>from tabvar:     Cool fins to roof~ thin holds...</td>\n",
       "    </tr>\n",
       "    <tr>\n",
       "      <th>2</th>\n",
       "      <td>Ant &amp; Bee do Yoga</td>\n",
       "      <td>The Hen House &gt; Kamloops &gt; British Columbia &gt; ...</td>\n",
       "      <td>2.7</td>\n",
       "      <td>5.10b/c</td>\n",
       "      <td>A safe mixed route with a bit of run out up to...</td>\n",
       "    </tr>\n",
       "    <tr>\n",
       "      <th>3</th>\n",
       "      <td>Besame Fuerte</td>\n",
       "      <td>Pilon De Lolita &gt; Loreto Area &gt; Baja Californi...</td>\n",
       "      <td>2.0</td>\n",
       "      <td>5.10b/c</td>\n",
       "      <td>Start on a slab under a left leaning arched ro...</td>\n",
       "    </tr>\n",
       "    <tr>\n",
       "      <th>4</th>\n",
       "      <td>Big Momma's Rock</td>\n",
       "      <td>The Courtyard &gt; Mamquam FSR &gt; Squamish &gt; Briti...</td>\n",
       "      <td>3.0</td>\n",
       "      <td>5.10b/c</td>\n",
       "      <td>Fun technical climbing. Tricky right off the bat.</td>\n",
       "    </tr>\n",
       "  </tbody>\n",
       "</table>\n",
       "</div>"
      ],
      "text/plain": [
       "               Route                                           Location  \\\n",
       "0      Access Denied  El Mirador > El Potrero Chico > Nuevo Leon > N...   \n",
       "1       Agave Nectar  Sugar Shack > Cougar Canyon (Creek) - CONSTRUC...   \n",
       "2  Ant & Bee do Yoga  The Hen House > Kamloops > British Columbia > ...   \n",
       "3      Besame Fuerte  Pilon De Lolita > Loreto Area > Baja Californi...   \n",
       "4   Big Momma's Rock  The Courtyard > Mamquam FSR > Squamish > Briti...   \n",
       "\n",
       "   Avg Stars   Rating                                               desc  \n",
       "0        2.9  5.10b/c  This is a really great route~ with awesome exp...  \n",
       "1        2.0  5.10b/c  from tabvar:     Cool fins to roof~ thin holds...  \n",
       "2        2.7  5.10b/c  A safe mixed route with a bit of run out up to...  \n",
       "3        2.0  5.10b/c  Start on a slab under a left leaning arched ro...  \n",
       "4        3.0  5.10b/c  Fun technical climbing. Tricky right off the bat.  "
      ]
     },
     "execution_count": 53,
     "metadata": {},
     "output_type": "execute_result"
    }
   ],
   "source": [
    "# Remove the columns\n",
    "df = df.drop(columns=['Unnamed: 0', 'URL', 'Route Type', 'Pitches', 'Length', 'Area Latitude', 'Area Longitude', ' protection', ' num_votes'], axis=1)\n",
    "\n",
    "# Print out the first rows of papers\n",
    "df.head()"
   ]
  },
  {
   "cell_type": "code",
   "execution_count": 54,
   "metadata": {},
   "outputs": [
    {
     "name": "stdout",
     "output_type": "stream",
     "text": [
      "Index(['Route', 'Location', 'Avg Stars', 'Rating', ' desc'], dtype='object')\n"
     ]
    }
   ],
   "source": [
    "print(df.columns)"
   ]
  },
  {
   "cell_type": "markdown",
   "metadata": {},
   "source": [
    "### Remove any rows with 0 length descriptions or more than 2000 word descriptions"
   ]
  },
  {
   "cell_type": "code",
   "execution_count": 55,
   "metadata": {},
   "outputs": [
    {
     "name": "stdout",
     "output_type": "stream",
     "text": [
      "Number of rows before removal: 116700\n",
      "Number of rows after removal: 116430\n"
     ]
    }
   ],
   "source": [
    "# Print the number of rows before removal\n",
    "print(\"Number of rows before removal:\", len(df))\n",
    "\n",
    "# Remove rows with descriptions containing 0 words or more than 2000 words\n",
    "df = df[(df[' desc'].str.split().str.len() > 0) & (df[' desc'].str.split().str.len() <= 2000)]\n",
    "\n",
    "# Print the number of rows after removal\n",
    "print(\"Number of rows after removal:\", len(df))"
   ]
  },
  {
   "cell_type": "code",
   "execution_count": 56,
   "metadata": {},
   "outputs": [
    {
     "data": {
      "text/plain": [
       "0    This is a really great route~ with awesome exp...\n",
       "1    from tabvar:     Cool fins to roof~ thin holds...\n",
       "2    A safe mixed route with a bit of run out up to...\n",
       "3    Start on a slab under a left leaning arched ro...\n",
       "4    Fun technical climbing. Tricky right off the bat.\n",
       "Name:  desc, dtype: object"
      ]
     },
     "execution_count": 56,
     "metadata": {},
     "output_type": "execute_result"
    }
   ],
   "source": [
    "df[' desc'].head()"
   ]
  },
  {
   "cell_type": "markdown",
   "metadata": {},
   "source": [
    "### Remove any routes with non-English descriptions"
   ]
  },
  {
   "cell_type": "code",
   "execution_count": 60,
   "metadata": {},
   "outputs": [],
   "source": [
    "from langdetect import detect\n",
    "\n",
    "# Function to check if a text is in English using langdetect\n",
    "def is_english(text):\n",
    "    try:\n",
    "        return detect(text) == 'en'\n",
    "    except:\n",
    "        return False\n",
    "    \n",
    "# Remove rows where the description is not in English\n",
    "df = df[df[' desc'].apply(is_english)]\n",
    "\n",
    "# Print the number of rows after removal of non-English\n",
    "print(\"Number of rows after removal:\", len(df))"
   ]
  },
  {
   "cell_type": "markdown",
   "metadata": {},
   "source": [
    "### Remove punctuation and lowercase all descriptions"
   ]
  },
  {
   "cell_type": "code",
   "execution_count": null,
   "metadata": {},
   "outputs": [],
   "source": [
    "import string\n",
    "\n",
    "# Remove punctuation and convert to lowercase\n",
    "def clean_text(text):\n",
    "    text = ''.join([char for char in text if char not in string.punctuation])\n",
    "    return text.lower()\n",
    "\n",
    "# Apply text cleaning to the description column\n",
    "df[' desc'] = df[' desc'].apply(clean_text)\n",
    "\n",
    "df.head()"
   ]
  }
 ],
 "metadata": {
  "kernelspec": {
   "display_name": "Propaganda",
   "language": "python",
   "name": "python3"
  },
  "language_info": {
   "codemirror_mode": {
    "name": "ipython",
    "version": 3
   },
   "file_extension": ".py",
   "mimetype": "text/x-python",
   "name": "python",
   "nbconvert_exporter": "python",
   "pygments_lexer": "ipython3",
   "version": "3.9.18"
  }
 },
 "nbformat": 4,
 "nbformat_minor": 2
}
